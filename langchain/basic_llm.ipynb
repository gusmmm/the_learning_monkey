{
 "cells": [
  {
   "cell_type": "markdown",
   "id": "2e473e8d",
   "metadata": {},
   "source": [
    "### install dependencies\n",
    "- if there's a pyproject.toml file:\n",
    "uv sync\n",
    "### or add one by one - I'm using google genai\n",
    "uv add langchain-core\n",
    "uv add langchain-google-genai\n",
    "uv add langchain-community\n",
    "uv add ipykernel\n",
    "uv add pydantic\n",
    "### have your api key in a .env file\n",
    "and add it to .gitignore"
   ]
  },
  {
   "cell_type": "code",
   "execution_count": null,
   "id": "1d9fe888",
   "metadata": {},
   "outputs": [],
   "source": [
    "# get the apy key\n",
    "import os\n",
    "import getpass\n",
    "\n",
    "os.environ[\"GOOGLE_API_KEY\"] = os.getenv(\"GOOGLE_API_KEY\") or getpass.getpass(\n",
    "    \"Enter your Google API key: \")\n",
    "\n",
    "#print(f\"Google API key set successfully: {os.environ['GOOGLE_API_KEY']} \")"
   ]
  },
  {
   "cell_type": "code",
   "execution_count": null,
   "id": "afc99679",
   "metadata": {},
   "outputs": [],
   "source": [
    "#genai_model = \"gemini-2.0-flash\"\n",
    "#genai_model = \"gemini-2.5-flash-preview-05-20\"\n",
    "genai_model = \"gemini-2.5-pro-preview-05-06\""
   ]
  },
  {
   "cell_type": "markdown",
   "id": "73f950ba",
   "metadata": {},
   "source": [
    "### check the ChatGoogleGenerativeAI documentation\n",
    "https://python.langchain.com/docs/integrations/chat/google_generative_ai/"
   ]
  },
  {
   "cell_type": "code",
   "execution_count": null,
   "id": "2bf600df",
   "metadata": {},
   "outputs": [],
   "source": [
    "from langchain_google_genai import ChatGoogleGenerativeAI\n",
    "\n",
    "llm = ChatGoogleGenerativeAI(\n",
    "    model=genai_model,\n",
    "    temperature=0,\n",
    "    max_tokens=None,\n",
    "    timeout=None,\n",
    "    max_retries=2,\n",
    "    # other params...\n",
    ")\n",
    "\n",
    "creative_llm = ChatGoogleGenerativeAI(\n",
    "    model=genai_model,\n",
    "    temperature=1,\n",
    "    max_tokens=None,\n",
    "    timeout=None,\n",
    "    max_retries=2,\n",
    "    # other params...\n",
    ")"
   ]
  },
  {
   "cell_type": "markdown",
   "id": "c1e51e9b",
   "metadata": {},
   "source": [
    "### prompts\n",
    "- check the documentation https://python.langchain.com/api_reference/core/prompts.html\n",
    "- we'll be using\n",
    "-- SystemMessagePromptTemplate https://python.langchain.com/api_reference/core/prompts/langchain_core.prompts.chat.SystemMessagePromptTemplate.html\n",
    "-- HumanMessagePromptTemplate https://python.langchain.com/api_reference/core/prompts/langchain_core.prompts.chat.HumanMessagePromptTemplate.html"
   ]
  },
  {
   "cell_type": "code",
   "execution_count": 9,
   "id": "0533da72",
   "metadata": {},
   "outputs": [],
   "source": [
    "from langchain.prompts import (\n",
    "    SystemMessagePromptTemplate,\n",
    "    HumanMessagePromptTemplate,\n",
    ")\n",
    "\n",
    "# define the system prompt\n",
    "system_prompt = SystemMessagePromptTemplate.from_template(\n",
    "    \"You are a norwegian language teacher that answers questions about the Norwegian language. \"\n",
    "    \"You are knowledgeable about its features, capabilities, and how to use it effectively.\"\n",
    "    \"You should provide clear and concise explanations, examples, and practical advice to help users understand the language better.\"\n",
    ")\n",
    "\n",
    "user_prompt = HumanMessagePromptTemplate.from_template(\n",
    "    \"\"\"\n",
    "    Your task is to answer the user's \n",
    "    ---\n",
    "    {question}\n",
    "    ---\n",
    "    about the Norwegian language.\n",
    "    Provide a detailed and informative response that addresses the user's query.\n",
    "    If the user asks for examples, provide relevant examples in Norwegian with translations.\n",
    "    If the user asks for practical advice, give actionable tips that can help them learn or use the language effectively.\n",
    "    If the user asks for cultural context, provide insights into how the language is used in Norwegian culture.\n",
    "    \"\"\",\n",
    "    input_variables=[\"question\"]\n",
    ")"
   ]
  },
  {
   "cell_type": "code",
   "execution_count": 16,
   "id": "3cf2a261",
   "metadata": {},
   "outputs": [],
   "source": [
    "question = \"What does the word 'ei' mean in Norwegian? Give me a grammar explanation and examples of real usage.\""
   ]
  },
  {
   "cell_type": "markdown",
   "id": "bcbeea24",
   "metadata": {},
   "source": [
    "### create the chat prompt from the system prompt and user prompt\n",
    "- we'll use\n",
    "-- ChatPromptTemplate https://python.langchain.com/api_reference/core/prompts/langchain_core.prompts.chat.ChatPromptTemplate.html"
   ]
  },
  {
   "cell_type": "code",
   "execution_count": 10,
   "id": "87ad1f40",
   "metadata": {},
   "outputs": [],
   "source": [
    "from langchain.prompts import ChatPromptTemplate\n",
    "first_prompt = ChatPromptTemplate.from_messages([system_prompt, user_prompt])"
   ]
  },
  {
   "cell_type": "code",
   "execution_count": 13,
   "id": "c293f467",
   "metadata": {},
   "outputs": [],
   "source": [
    "chain_one = (\n",
    "    {\"question\": lambda x: x[\"question\"]}\n",
    "    | first_prompt | llm\n",
    "    | {\"answer\": lambda x: x.content}\n",
    ")"
   ]
  },
  {
   "cell_type": "code",
   "execution_count": 17,
   "id": "9ac0441e",
   "metadata": {},
   "outputs": [
    {
     "data": {
      "text/plain": [
       "{'answer': 'Hei! \"Ei\" is a versatile little word in Norwegian, and its meaning depends on the context. Here\\'s a breakdown:\\n\\n**1. \"Ei\" as the feminine indefinite article:**\\n\\n*   **Grammar:** In Norwegian, nouns have grammatical gender: masculine, feminine, and neuter. \"Ei\" is the indefinite article used before feminine nouns in the singular. It\\'s equivalent to \"a\" or \"an\" in English when referring to a feminine noun.\\n\\n*   **Usage:** It indicates that you\\'re talking about *any* one of something, not a specific one.\\n\\n*   **Examples:**\\n\\n    *   \"Jeg ser **ei** jente.\" (I see **a** girl.) - \"Jente\" (girl) is feminine.\\n    *   \"Hun har **ei** bok.\" (She has **a** book.) - \"Bok\" (book) is feminine.\\n    *   \"Vil du ha **ei** kake?\" (Do you want **a** cake?) - \"Kake\" (cake) is feminine.\\n\\n*   **Important Note:** In Bokmål (the most common written standard), you can often use \"en\" (the masculine indefinite article) instead of \"ei\" for many feminine nouns. This is a result of historical language reforms. However, using \"ei\" is still perfectly correct and, in some regions, preferred. In Nynorsk (the other written standard), \"ei\" is the standard and preferred form.\\n\\n**2. \"Ei\" as a possessive pronoun (Nynorsk):**\\n\\n*   **Grammar:** In Nynorsk, \"ei\" can also be a possessive pronoun, meaning \"her\" or \"hers.\" This usage is *not* common in Bokmål.\\n\\n*   **Usage:** It indicates that something belongs to a female person or entity.\\n\\n*   **Examples (Nynorsk):**\\n\\n    *   \"Dette er **ei** bok.\" (This is **her** book.) - The book belongs to a female.\\n    *   \"Eg såg **ei** katten.\" (I saw **her** cat.) - The cat belongs to a female.\\n\\n**3. \"Ei\" as part of compound words:**\\n\\n*   \"Ei\" can also be part of compound words, often related to ownership or belonging. In these cases, the meaning is usually derived from the first meaning (feminine indefinite article or possessive).\\n\\n*   **Examples:**\\n\\n    *   \"Eiendel\" (possession, property) - related to \"eie\" (to own).\\n    *   \"Eigar\" (owner) - related to \"eie\" (to own).\\n\\n**Practical Advice:**\\n\\n*   **Focus on the context:** The easiest way to understand \"ei\" is to look at the noun that follows it. If the noun is feminine, \"ei\" is likely the indefinite article.\\n*   **Be aware of Bokmål vs. Nynorsk:** If you\\'re learning Bokmål, you\\'ll primarily encounter \"ei\" as the indefinite article. If you\\'re learning Nynorsk, pay attention to its use as a possessive pronoun as well.\\n*   **Listen to native speakers:** Pay attention to how native speakers use \"ei\" in different situations. This will help you develop a better understanding of its nuances.\\n\\n**Cultural Context:**\\n\\nThe use of \"ei\" versus \"en\" for feminine nouns in Bokmål is a subtle but interesting aspect of Norwegian language politics. It reflects the ongoing tension between preserving traditional forms and simplifying the language. Using \"ei\" can sometimes be seen as more formal or traditional, while using \"en\" is often perceived as more modern and relaxed.\\n\\nI hope this explanation is helpful! Let me know if you have any other questions. Lykke til med norsken! (Good luck with your Norwegian!)'}"
      ]
     },
     "execution_count": 17,
     "metadata": {},
     "output_type": "execute_result"
    }
   ],
   "source": [
    "norwegian_answer_msg = chain_one.invoke({\"question\": question})\n",
    "norwegian_answer_msg"
   ]
  },
  {
   "cell_type": "markdown",
   "id": "0dac1b49",
   "metadata": {},
   "source": [
    "### with structured output using pydantic"
   ]
  },
  {
   "cell_type": "code",
   "execution_count": 21,
   "id": "0d8c7460",
   "metadata": {},
   "outputs": [],
   "source": [
    "from pydantic import BaseModel, Field\n",
    "\n",
    "class NorwegianAnswer(BaseModel):\n",
    "    answer: str = Field(..., description=\"The answer to the user's question about the Norwegian language.\")\n",
    "    examples: list[str] = Field(..., description=\"Examples of the word or expression in the question used in sentences.\")\n",
    "    grammar: str = Field(..., description=\"A brief explanation of the grammar rules related to the word or expression.\")\n",
    "    usage: list[str] = Field(..., description=\"Common phrases or sentences using the word or expression.\")\n",
    "    context: str = Field(..., description=\"The context in which the word or expression is typically used.\")\n",
    "    culture: str = Field(..., description=\"Cultural insights related to the word or expression in Norwegian language and culture.\")\n",
    "\n",
    "structured_llm = llm.with_structured_output(NorwegianAnswer)\n"
   ]
  },
  {
   "cell_type": "code",
   "execution_count": 25,
   "id": "2b92746c",
   "metadata": {},
   "outputs": [
    {
     "data": {
      "text/plain": [
       "{'answer': \"The word 'ei' in Norwegian is a feminine indefinite article, equivalent to 'a' or 'an' in English. It is used before nouns that are feminine in gender.\",\n",
       " 'examples': ['Ei jente (a girl)', 'Ei bok (a book)'],\n",
       " 'grammar': \"In Norwegian, nouns are divided into three genders: masculine, feminine, and neuter. The choice of 'ei' depends on the gender of the noun it precedes. 'Ei' is specifically for feminine nouns in the indefinite form.\",\n",
       " 'usage': ['Kan jeg låne ei bok? (Can I borrow a book?)',\n",
       "  'Jeg ser ei jente. (I see a girl.)'],\n",
       " 'context': 'Feminine nouns',\n",
       " 'culture': 'Norwegian Bokmål has three grammatical genders: masculine, feminine, and neuter. However, in many dialects and in Nynorsk, the masculine and feminine genders are often merged into a common gender.'}"
      ]
     },
     "execution_count": 25,
     "metadata": {},
     "output_type": "execute_result"
    }
   ],
   "source": [
    "chain_two = (\n",
    "    {\"question\": lambda x: x[\"question\"]}\n",
    "    | first_prompt | structured_llm\n",
    "    | {\n",
    "        \"answer\": lambda x: x.answer,\n",
    "        \"examples\": lambda x: x.examples,\n",
    "        \"grammar\": lambda x: x.grammar,\n",
    "        \"usage\": lambda x: x.usage,\n",
    "        \"context\": lambda x: x.context,\n",
    "        \"culture\": lambda x: x.culture\n",
    "    }\n",
    ")\n",
    "structured_norwegian_answer = chain_two.invoke({\"question\": question})\n",
    "structured_norwegian_answer"
   ]
  }
 ],
 "metadata": {
  "kernelspec": {
   "display_name": "Python 3",
   "language": "python",
   "name": "python3"
  },
  "language_info": {
   "codemirror_mode": {
    "name": "ipython",
    "version": 3
   },
   "file_extension": ".py",
   "mimetype": "text/x-python",
   "name": "python",
   "nbconvert_exporter": "python",
   "pygments_lexer": "ipython3",
   "version": "3.12.7"
  }
 },
 "nbformat": 4,
 "nbformat_minor": 5
}
